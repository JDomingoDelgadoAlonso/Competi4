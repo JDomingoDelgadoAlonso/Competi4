{
 "cells": [
  {
   "cell_type": "markdown",
   "metadata": {},
   "source": [
    "# Competi 4\n",
    "### En este cuaderno vamos a practicar la técnica de embedding sobre una columna de un dataset para predecir la esperanza de vida"
   ]
  },
  {
   "cell_type": "markdown",
   "metadata": {},
   "source": [
    "### Imports necesarios"
   ]
  },
  {
   "cell_type": "code",
   "execution_count": 68,
   "metadata": {},
   "outputs": [],
   "source": [
    "from sklearn.preprocessing import OneHotEncoder\n",
    "import pandas as pd\n",
    "\n",
    "# Configurar pandas para mostrar todas las columnas\n",
    "pd.set_option('display.max_columns', None)"
   ]
  },
  {
   "cell_type": "markdown",
   "metadata": {},
   "source": [
    "## 1. Importamos los datos desde Kaggle"
   ]
  },
  {
   "cell_type": "code",
   "execution_count": 69,
   "metadata": {},
   "outputs": [
    {
     "name": "stdout",
     "output_type": "stream",
     "text": [
      "Warning: Looks like you're using an outdated `kagglehub` version (installed: 0.3.7), please consider upgrading to the latest version (0.3.10).\n"
     ]
    },
    {
     "data": {
      "text/plain": [
       "'Primeros 5 registros:'"
      ]
     },
     "metadata": {},
     "output_type": "display_data"
    },
    {
     "data": {
      "text/html": [
       "<div>\n",
       "<style scoped>\n",
       "    .dataframe tbody tr th:only-of-type {\n",
       "        vertical-align: middle;\n",
       "    }\n",
       "\n",
       "    .dataframe tbody tr th {\n",
       "        vertical-align: top;\n",
       "    }\n",
       "\n",
       "    .dataframe thead th {\n",
       "        text-align: right;\n",
       "    }\n",
       "</style>\n",
       "<table border=\"1\" class=\"dataframe\">\n",
       "  <thead>\n",
       "    <tr style=\"text-align: right;\">\n",
       "      <th></th>\n",
       "      <th>Country</th>\n",
       "      <th>Year</th>\n",
       "      <th>Status</th>\n",
       "      <th>Life expectancy</th>\n",
       "      <th>Adult Mortality</th>\n",
       "      <th>infant deaths</th>\n",
       "      <th>Alcohol</th>\n",
       "      <th>percentage expenditure</th>\n",
       "      <th>Hepatitis B</th>\n",
       "      <th>Measles</th>\n",
       "      <th>BMI</th>\n",
       "      <th>under-five deaths</th>\n",
       "      <th>Polio</th>\n",
       "      <th>Total expenditure</th>\n",
       "      <th>Diphtheria</th>\n",
       "      <th>HIV/AIDS</th>\n",
       "      <th>GDP</th>\n",
       "      <th>Population</th>\n",
       "      <th>thinness  1-19 years</th>\n",
       "      <th>thinness 5-9 years</th>\n",
       "      <th>Income composition of resources</th>\n",
       "      <th>Schooling</th>\n",
       "    </tr>\n",
       "  </thead>\n",
       "  <tbody>\n",
       "    <tr>\n",
       "      <th>0</th>\n",
       "      <td>Afghanistan</td>\n",
       "      <td>2015</td>\n",
       "      <td>Developing</td>\n",
       "      <td>65.0</td>\n",
       "      <td>263.0</td>\n",
       "      <td>62</td>\n",
       "      <td>0.01</td>\n",
       "      <td>71.279624</td>\n",
       "      <td>65.0</td>\n",
       "      <td>1154</td>\n",
       "      <td>19.1</td>\n",
       "      <td>83</td>\n",
       "      <td>6.0</td>\n",
       "      <td>8.16</td>\n",
       "      <td>65.0</td>\n",
       "      <td>0.1</td>\n",
       "      <td>584.259210</td>\n",
       "      <td>33736494.0</td>\n",
       "      <td>17.2</td>\n",
       "      <td>17.3</td>\n",
       "      <td>0.479</td>\n",
       "      <td>10.1</td>\n",
       "    </tr>\n",
       "    <tr>\n",
       "      <th>1</th>\n",
       "      <td>Afghanistan</td>\n",
       "      <td>2014</td>\n",
       "      <td>Developing</td>\n",
       "      <td>59.9</td>\n",
       "      <td>271.0</td>\n",
       "      <td>64</td>\n",
       "      <td>0.01</td>\n",
       "      <td>73.523582</td>\n",
       "      <td>62.0</td>\n",
       "      <td>492</td>\n",
       "      <td>18.6</td>\n",
       "      <td>86</td>\n",
       "      <td>58.0</td>\n",
       "      <td>8.18</td>\n",
       "      <td>62.0</td>\n",
       "      <td>0.1</td>\n",
       "      <td>612.696514</td>\n",
       "      <td>327582.0</td>\n",
       "      <td>17.5</td>\n",
       "      <td>17.5</td>\n",
       "      <td>0.476</td>\n",
       "      <td>10.0</td>\n",
       "    </tr>\n",
       "    <tr>\n",
       "      <th>2</th>\n",
       "      <td>Afghanistan</td>\n",
       "      <td>2013</td>\n",
       "      <td>Developing</td>\n",
       "      <td>59.9</td>\n",
       "      <td>268.0</td>\n",
       "      <td>66</td>\n",
       "      <td>0.01</td>\n",
       "      <td>73.219243</td>\n",
       "      <td>64.0</td>\n",
       "      <td>430</td>\n",
       "      <td>18.1</td>\n",
       "      <td>89</td>\n",
       "      <td>62.0</td>\n",
       "      <td>8.13</td>\n",
       "      <td>64.0</td>\n",
       "      <td>0.1</td>\n",
       "      <td>631.744976</td>\n",
       "      <td>31731688.0</td>\n",
       "      <td>17.7</td>\n",
       "      <td>17.7</td>\n",
       "      <td>0.470</td>\n",
       "      <td>9.9</td>\n",
       "    </tr>\n",
       "    <tr>\n",
       "      <th>3</th>\n",
       "      <td>Afghanistan</td>\n",
       "      <td>2012</td>\n",
       "      <td>Developing</td>\n",
       "      <td>59.5</td>\n",
       "      <td>272.0</td>\n",
       "      <td>69</td>\n",
       "      <td>0.01</td>\n",
       "      <td>78.184215</td>\n",
       "      <td>67.0</td>\n",
       "      <td>2787</td>\n",
       "      <td>17.6</td>\n",
       "      <td>93</td>\n",
       "      <td>67.0</td>\n",
       "      <td>8.52</td>\n",
       "      <td>67.0</td>\n",
       "      <td>0.1</td>\n",
       "      <td>669.959000</td>\n",
       "      <td>3696958.0</td>\n",
       "      <td>17.9</td>\n",
       "      <td>18.0</td>\n",
       "      <td>0.463</td>\n",
       "      <td>9.8</td>\n",
       "    </tr>\n",
       "    <tr>\n",
       "      <th>4</th>\n",
       "      <td>Afghanistan</td>\n",
       "      <td>2011</td>\n",
       "      <td>Developing</td>\n",
       "      <td>59.2</td>\n",
       "      <td>275.0</td>\n",
       "      <td>71</td>\n",
       "      <td>0.01</td>\n",
       "      <td>7.097109</td>\n",
       "      <td>68.0</td>\n",
       "      <td>3013</td>\n",
       "      <td>17.2</td>\n",
       "      <td>97</td>\n",
       "      <td>68.0</td>\n",
       "      <td>7.87</td>\n",
       "      <td>68.0</td>\n",
       "      <td>0.1</td>\n",
       "      <td>63.537231</td>\n",
       "      <td>2978599.0</td>\n",
       "      <td>18.2</td>\n",
       "      <td>18.2</td>\n",
       "      <td>0.454</td>\n",
       "      <td>9.5</td>\n",
       "    </tr>\n",
       "  </tbody>\n",
       "</table>\n",
       "</div>"
      ],
      "text/plain": [
       "       Country  Year      Status  Life expectancy   Adult Mortality  \\\n",
       "0  Afghanistan  2015  Developing              65.0            263.0   \n",
       "1  Afghanistan  2014  Developing              59.9            271.0   \n",
       "2  Afghanistan  2013  Developing              59.9            268.0   \n",
       "3  Afghanistan  2012  Developing              59.5            272.0   \n",
       "4  Afghanistan  2011  Developing              59.2            275.0   \n",
       "\n",
       "   infant deaths  Alcohol  percentage expenditure  Hepatitis B  Measles   \\\n",
       "0             62     0.01               71.279624         65.0      1154   \n",
       "1             64     0.01               73.523582         62.0       492   \n",
       "2             66     0.01               73.219243         64.0       430   \n",
       "3             69     0.01               78.184215         67.0      2787   \n",
       "4             71     0.01                7.097109         68.0      3013   \n",
       "\n",
       "    BMI   under-five deaths   Polio  Total expenditure  Diphtheria   \\\n",
       "0   19.1                  83    6.0               8.16         65.0   \n",
       "1   18.6                  86   58.0               8.18         62.0   \n",
       "2   18.1                  89   62.0               8.13         64.0   \n",
       "3   17.6                  93   67.0               8.52         67.0   \n",
       "4   17.2                  97   68.0               7.87         68.0   \n",
       "\n",
       "    HIV/AIDS         GDP  Population   thinness  1-19 years  \\\n",
       "0        0.1  584.259210  33736494.0                   17.2   \n",
       "1        0.1  612.696514    327582.0                   17.5   \n",
       "2        0.1  631.744976  31731688.0                   17.7   \n",
       "3        0.1  669.959000   3696958.0                   17.9   \n",
       "4        0.1   63.537231   2978599.0                   18.2   \n",
       "\n",
       "    thinness 5-9 years  Income composition of resources  Schooling  \n",
       "0                 17.3                            0.479       10.1  \n",
       "1                 17.5                            0.476       10.0  \n",
       "2                 17.7                            0.470        9.9  \n",
       "3                 18.0                            0.463        9.8  \n",
       "4                 18.2                            0.454        9.5  "
      ]
     },
     "metadata": {},
     "output_type": "display_data"
    }
   ],
   "source": [
    "import kagglehub\n",
    "from kagglehub import KaggleDatasetAdapter\n",
    "\n",
    "#!pip install kagglehub[pandas-datasets]\n",
    "# Set the path to the file you'd like to load\n",
    "file_path = \"Life Expectancy Data.csv\"\n",
    "\n",
    "# Load the latest version\n",
    "df = kagglehub.load_dataset(\n",
    "  KaggleDatasetAdapter.PANDAS,\n",
    "  \"kumarajarshi/life-expectancy-who\",\n",
    "  file_path,\n",
    ")\n",
    "\n",
    "display(\"Primeros 5 registros:\", df.head())"
   ]
  },
  {
   "cell_type": "markdown",
   "metadata": {},
   "source": [
    "## 2. Análisis de la calidad de los datos"
   ]
  },
  {
   "cell_type": "markdown",
   "metadata": {},
   "source": [
    "#### Vamos a usar esta función para ver la información de cada columna"
   ]
  },
  {
   "cell_type": "code",
   "execution_count": 70,
   "metadata": {},
   "outputs": [],
   "source": [
    "# En primer lugar vamos definir una función que nos ayudará a analizar las columnas de un dataframe\n",
    "def describe_columna(df, col):\n",
    "    print(f'Columna: {col}  -  Tipo de datos: {df[col].dtype}')\n",
    "    print(f'Número de valores nulos: {df[col].isnull().sum()}  -  Número de valores distintos: {df[col].nunique()}')\n",
    "    print('Valores más frecuentes:')\n",
    "    for i, v in df[col].value_counts().iloc[:10].items() :\n",
    "        print(i, ':',v, \"veces\")"
   ]
  },
  {
   "cell_type": "markdown",
   "metadata": {},
   "source": [
    "### 2.1 Columna Country"
   ]
  },
  {
   "cell_type": "code",
   "execution_count": 71,
   "metadata": {},
   "outputs": [
    {
     "name": "stdout",
     "output_type": "stream",
     "text": [
      "Columna: Country  -  Tipo de datos: object\n",
      "Número de valores nulos: 0  -  Número de valores distintos: 193\n",
      "Valores más frecuentes:\n",
      "Afghanistan : 16 veces\n",
      "Peru : 16 veces\n",
      "Nicaragua : 16 veces\n",
      "Niger : 16 veces\n",
      "Nigeria : 16 veces\n",
      "Norway : 16 veces\n",
      "Oman : 16 veces\n",
      "Pakistan : 16 veces\n",
      "Panama : 16 veces\n",
      "Papua New Guinea : 16 veces\n"
     ]
    }
   ],
   "source": [
    "describe_columna(df, \"Country\")"
   ]
  },
  {
   "cell_type": "markdown",
   "metadata": {},
   "source": [
    "#### Vemos que hay 193 paises distintos y que generalmente vamos a tener de estos paises 16 registros para cada uno, por año"
   ]
  },
  {
   "cell_type": "markdown",
   "metadata": {},
   "source": [
    "### 2.2 Columna Life expectancy"
   ]
  },
  {
   "cell_type": "code",
   "execution_count": 72,
   "metadata": {},
   "outputs": [
    {
     "name": "stdout",
     "output_type": "stream",
     "text": [
      "Columna: Life expectancy   -  Tipo de datos: float64\n",
      "Número de valores nulos: 10  -  Número de valores distintos: 362\n",
      "Valores más frecuentes:\n",
      "73.0 : 45 veces\n",
      "75.0 : 33 veces\n",
      "78.0 : 31 veces\n",
      "73.6 : 28 veces\n",
      "73.9 : 25 veces\n",
      "81.0 : 25 veces\n",
      "76.0 : 25 veces\n",
      "74.5 : 24 veces\n",
      "74.7 : 24 veces\n",
      "73.2 : 23 veces\n"
     ]
    }
   ],
   "source": [
    "describe_columna(df, \"Life expectancy \")"
   ]
  },
  {
   "cell_type": "markdown",
   "metadata": {},
   "source": [
    "#### Vamos a borrar los 10 valores nulos porque es nuestra variable objetiva"
   ]
  },
  {
   "cell_type": "markdown",
   "metadata": {},
   "source": [
    "### 2.3 Columna Year expectancy"
   ]
  },
  {
   "cell_type": "code",
   "execution_count": 73,
   "metadata": {},
   "outputs": [
    {
     "name": "stdout",
     "output_type": "stream",
     "text": [
      "Columna: Year  -  Tipo de datos: int64\n",
      "Número de valores nulos: 0  -  Número de valores distintos: 16\n",
      "Valores más frecuentes:\n",
      "2013 : 193 veces\n",
      "2015 : 183 veces\n",
      "2014 : 183 veces\n",
      "2012 : 183 veces\n",
      "2011 : 183 veces\n",
      "2010 : 183 veces\n",
      "2009 : 183 veces\n",
      "2008 : 183 veces\n",
      "2007 : 183 veces\n",
      "2006 : 183 veces\n"
     ]
    }
   ],
   "source": [
    "describe_columna(df, \"Year\")"
   ]
  },
  {
   "cell_type": "markdown",
   "metadata": {},
   "source": [
    "#### Están todos los datos, no haremos nada"
   ]
  },
  {
   "cell_type": "markdown",
   "metadata": {},
   "source": [
    "### 2.4 Columna Adult Mortality"
   ]
  },
  {
   "cell_type": "code",
   "execution_count": 74,
   "metadata": {},
   "outputs": [
    {
     "name": "stdout",
     "output_type": "stream",
     "text": [
      "Columna: Adult Mortality  -  Tipo de datos: float64\n",
      "Número de valores nulos: 10  -  Número de valores distintos: 425\n",
      "Valores más frecuentes:\n",
      "12.0 : 34 veces\n",
      "14.0 : 30 veces\n",
      "16.0 : 29 veces\n",
      "11.0 : 25 veces\n",
      "138.0 : 25 veces\n",
      "19.0 : 23 veces\n",
      "144.0 : 22 veces\n",
      "13.0 : 21 veces\n",
      "17.0 : 21 veces\n",
      "15.0 : 21 veces\n"
     ]
    }
   ],
   "source": [
    "describe_columna(df, \"Adult Mortality\")"
   ]
  },
  {
   "cell_type": "markdown",
   "metadata": {},
   "source": [
    "#### Vamos a ver los casos de esos 10 valores nulos por si podriamos hacer algo con ellos"
   ]
  },
  {
   "cell_type": "code",
   "execution_count": 75,
   "metadata": {},
   "outputs": [
    {
     "data": {
      "text/html": [
       "<div>\n",
       "<style scoped>\n",
       "    .dataframe tbody tr th:only-of-type {\n",
       "        vertical-align: middle;\n",
       "    }\n",
       "\n",
       "    .dataframe tbody tr th {\n",
       "        vertical-align: top;\n",
       "    }\n",
       "\n",
       "    .dataframe thead th {\n",
       "        text-align: right;\n",
       "    }\n",
       "</style>\n",
       "<table border=\"1\" class=\"dataframe\">\n",
       "  <thead>\n",
       "    <tr style=\"text-align: right;\">\n",
       "      <th></th>\n",
       "      <th>Country</th>\n",
       "      <th>Year</th>\n",
       "      <th>Status</th>\n",
       "      <th>Life expectancy</th>\n",
       "      <th>Adult Mortality</th>\n",
       "      <th>infant deaths</th>\n",
       "      <th>Alcohol</th>\n",
       "      <th>percentage expenditure</th>\n",
       "      <th>Hepatitis B</th>\n",
       "      <th>Measles</th>\n",
       "      <th>BMI</th>\n",
       "      <th>under-five deaths</th>\n",
       "      <th>Polio</th>\n",
       "      <th>Total expenditure</th>\n",
       "      <th>Diphtheria</th>\n",
       "      <th>HIV/AIDS</th>\n",
       "      <th>GDP</th>\n",
       "      <th>Population</th>\n",
       "      <th>thinness  1-19 years</th>\n",
       "      <th>thinness 5-9 years</th>\n",
       "      <th>Income composition of resources</th>\n",
       "      <th>Schooling</th>\n",
       "    </tr>\n",
       "  </thead>\n",
       "  <tbody>\n",
       "    <tr>\n",
       "      <th>624</th>\n",
       "      <td>Cook Islands</td>\n",
       "      <td>2013</td>\n",
       "      <td>Developing</td>\n",
       "      <td>NaN</td>\n",
       "      <td>NaN</td>\n",
       "      <td>0</td>\n",
       "      <td>0.01</td>\n",
       "      <td>0.000000</td>\n",
       "      <td>98.0</td>\n",
       "      <td>0</td>\n",
       "      <td>82.8</td>\n",
       "      <td>0</td>\n",
       "      <td>98.0</td>\n",
       "      <td>3.58</td>\n",
       "      <td>98.0</td>\n",
       "      <td>0.1</td>\n",
       "      <td>NaN</td>\n",
       "      <td>NaN</td>\n",
       "      <td>0.1</td>\n",
       "      <td>0.1</td>\n",
       "      <td>NaN</td>\n",
       "      <td>NaN</td>\n",
       "    </tr>\n",
       "    <tr>\n",
       "      <th>769</th>\n",
       "      <td>Dominica</td>\n",
       "      <td>2013</td>\n",
       "      <td>Developing</td>\n",
       "      <td>NaN</td>\n",
       "      <td>NaN</td>\n",
       "      <td>0</td>\n",
       "      <td>0.01</td>\n",
       "      <td>11.419555</td>\n",
       "      <td>96.0</td>\n",
       "      <td>0</td>\n",
       "      <td>58.4</td>\n",
       "      <td>0</td>\n",
       "      <td>96.0</td>\n",
       "      <td>5.58</td>\n",
       "      <td>96.0</td>\n",
       "      <td>0.1</td>\n",
       "      <td>722.756650</td>\n",
       "      <td>NaN</td>\n",
       "      <td>2.7</td>\n",
       "      <td>2.6</td>\n",
       "      <td>0.721</td>\n",
       "      <td>12.7</td>\n",
       "    </tr>\n",
       "    <tr>\n",
       "      <th>1650</th>\n",
       "      <td>Marshall Islands</td>\n",
       "      <td>2013</td>\n",
       "      <td>Developing</td>\n",
       "      <td>NaN</td>\n",
       "      <td>NaN</td>\n",
       "      <td>0</td>\n",
       "      <td>0.01</td>\n",
       "      <td>871.878317</td>\n",
       "      <td>8.0</td>\n",
       "      <td>0</td>\n",
       "      <td>81.6</td>\n",
       "      <td>0</td>\n",
       "      <td>79.0</td>\n",
       "      <td>17.24</td>\n",
       "      <td>79.0</td>\n",
       "      <td>0.1</td>\n",
       "      <td>3617.752354</td>\n",
       "      <td>NaN</td>\n",
       "      <td>0.1</td>\n",
       "      <td>0.1</td>\n",
       "      <td>NaN</td>\n",
       "      <td>0.0</td>\n",
       "    </tr>\n",
       "    <tr>\n",
       "      <th>1715</th>\n",
       "      <td>Monaco</td>\n",
       "      <td>2013</td>\n",
       "      <td>Developing</td>\n",
       "      <td>NaN</td>\n",
       "      <td>NaN</td>\n",
       "      <td>0</td>\n",
       "      <td>0.01</td>\n",
       "      <td>0.000000</td>\n",
       "      <td>99.0</td>\n",
       "      <td>0</td>\n",
       "      <td>NaN</td>\n",
       "      <td>0</td>\n",
       "      <td>99.0</td>\n",
       "      <td>4.30</td>\n",
       "      <td>99.0</td>\n",
       "      <td>0.1</td>\n",
       "      <td>NaN</td>\n",
       "      <td>NaN</td>\n",
       "      <td>NaN</td>\n",
       "      <td>NaN</td>\n",
       "      <td>NaN</td>\n",
       "      <td>NaN</td>\n",
       "    </tr>\n",
       "    <tr>\n",
       "      <th>1812</th>\n",
       "      <td>Nauru</td>\n",
       "      <td>2013</td>\n",
       "      <td>Developing</td>\n",
       "      <td>NaN</td>\n",
       "      <td>NaN</td>\n",
       "      <td>0</td>\n",
       "      <td>0.01</td>\n",
       "      <td>15.606596</td>\n",
       "      <td>87.0</td>\n",
       "      <td>0</td>\n",
       "      <td>87.3</td>\n",
       "      <td>0</td>\n",
       "      <td>87.0</td>\n",
       "      <td>4.65</td>\n",
       "      <td>87.0</td>\n",
       "      <td>0.1</td>\n",
       "      <td>136.183210</td>\n",
       "      <td>NaN</td>\n",
       "      <td>0.1</td>\n",
       "      <td>0.1</td>\n",
       "      <td>NaN</td>\n",
       "      <td>9.6</td>\n",
       "    </tr>\n",
       "    <tr>\n",
       "      <th>1909</th>\n",
       "      <td>Niue</td>\n",
       "      <td>2013</td>\n",
       "      <td>Developing</td>\n",
       "      <td>NaN</td>\n",
       "      <td>NaN</td>\n",
       "      <td>0</td>\n",
       "      <td>0.01</td>\n",
       "      <td>0.000000</td>\n",
       "      <td>99.0</td>\n",
       "      <td>0</td>\n",
       "      <td>77.3</td>\n",
       "      <td>0</td>\n",
       "      <td>99.0</td>\n",
       "      <td>7.20</td>\n",
       "      <td>99.0</td>\n",
       "      <td>0.1</td>\n",
       "      <td>NaN</td>\n",
       "      <td>NaN</td>\n",
       "      <td>0.1</td>\n",
       "      <td>0.1</td>\n",
       "      <td>NaN</td>\n",
       "      <td>NaN</td>\n",
       "    </tr>\n",
       "    <tr>\n",
       "      <th>1958</th>\n",
       "      <td>Palau</td>\n",
       "      <td>2013</td>\n",
       "      <td>Developing</td>\n",
       "      <td>NaN</td>\n",
       "      <td>NaN</td>\n",
       "      <td>0</td>\n",
       "      <td>NaN</td>\n",
       "      <td>344.690631</td>\n",
       "      <td>99.0</td>\n",
       "      <td>0</td>\n",
       "      <td>83.3</td>\n",
       "      <td>0</td>\n",
       "      <td>99.0</td>\n",
       "      <td>9.27</td>\n",
       "      <td>99.0</td>\n",
       "      <td>0.1</td>\n",
       "      <td>1932.122370</td>\n",
       "      <td>292.0</td>\n",
       "      <td>0.1</td>\n",
       "      <td>0.1</td>\n",
       "      <td>0.779</td>\n",
       "      <td>14.2</td>\n",
       "    </tr>\n",
       "    <tr>\n",
       "      <th>2167</th>\n",
       "      <td>Saint Kitts and Nevis</td>\n",
       "      <td>2013</td>\n",
       "      <td>Developing</td>\n",
       "      <td>NaN</td>\n",
       "      <td>NaN</td>\n",
       "      <td>0</td>\n",
       "      <td>8.54</td>\n",
       "      <td>0.000000</td>\n",
       "      <td>97.0</td>\n",
       "      <td>0</td>\n",
       "      <td>5.2</td>\n",
       "      <td>0</td>\n",
       "      <td>96.0</td>\n",
       "      <td>6.14</td>\n",
       "      <td>96.0</td>\n",
       "      <td>0.1</td>\n",
       "      <td>NaN</td>\n",
       "      <td>NaN</td>\n",
       "      <td>3.7</td>\n",
       "      <td>3.6</td>\n",
       "      <td>0.749</td>\n",
       "      <td>13.4</td>\n",
       "    </tr>\n",
       "    <tr>\n",
       "      <th>2216</th>\n",
       "      <td>San Marino</td>\n",
       "      <td>2013</td>\n",
       "      <td>Developing</td>\n",
       "      <td>NaN</td>\n",
       "      <td>NaN</td>\n",
       "      <td>0</td>\n",
       "      <td>0.01</td>\n",
       "      <td>0.000000</td>\n",
       "      <td>69.0</td>\n",
       "      <td>0</td>\n",
       "      <td>NaN</td>\n",
       "      <td>0</td>\n",
       "      <td>69.0</td>\n",
       "      <td>6.50</td>\n",
       "      <td>69.0</td>\n",
       "      <td>0.1</td>\n",
       "      <td>NaN</td>\n",
       "      <td>NaN</td>\n",
       "      <td>NaN</td>\n",
       "      <td>NaN</td>\n",
       "      <td>NaN</td>\n",
       "      <td>15.1</td>\n",
       "    </tr>\n",
       "    <tr>\n",
       "      <th>2713</th>\n",
       "      <td>Tuvalu</td>\n",
       "      <td>2013</td>\n",
       "      <td>Developing</td>\n",
       "      <td>NaN</td>\n",
       "      <td>NaN</td>\n",
       "      <td>0</td>\n",
       "      <td>0.01</td>\n",
       "      <td>78.281203</td>\n",
       "      <td>9.0</td>\n",
       "      <td>0</td>\n",
       "      <td>79.3</td>\n",
       "      <td>0</td>\n",
       "      <td>9.0</td>\n",
       "      <td>16.61</td>\n",
       "      <td>9.0</td>\n",
       "      <td>0.1</td>\n",
       "      <td>3542.135890</td>\n",
       "      <td>1819.0</td>\n",
       "      <td>0.2</td>\n",
       "      <td>0.1</td>\n",
       "      <td>NaN</td>\n",
       "      <td>0.0</td>\n",
       "    </tr>\n",
       "  </tbody>\n",
       "</table>\n",
       "</div>"
      ],
      "text/plain": [
       "                    Country  Year      Status  Life expectancy   \\\n",
       "624            Cook Islands  2013  Developing               NaN   \n",
       "769                Dominica  2013  Developing               NaN   \n",
       "1650       Marshall Islands  2013  Developing               NaN   \n",
       "1715                 Monaco  2013  Developing               NaN   \n",
       "1812                  Nauru  2013  Developing               NaN   \n",
       "1909                   Niue  2013  Developing               NaN   \n",
       "1958                  Palau  2013  Developing               NaN   \n",
       "2167  Saint Kitts and Nevis  2013  Developing               NaN   \n",
       "2216             San Marino  2013  Developing               NaN   \n",
       "2713                 Tuvalu  2013  Developing               NaN   \n",
       "\n",
       "      Adult Mortality  infant deaths  Alcohol  percentage expenditure  \\\n",
       "624               NaN              0     0.01                0.000000   \n",
       "769               NaN              0     0.01               11.419555   \n",
       "1650              NaN              0     0.01              871.878317   \n",
       "1715              NaN              0     0.01                0.000000   \n",
       "1812              NaN              0     0.01               15.606596   \n",
       "1909              NaN              0     0.01                0.000000   \n",
       "1958              NaN              0      NaN              344.690631   \n",
       "2167              NaN              0     8.54                0.000000   \n",
       "2216              NaN              0     0.01                0.000000   \n",
       "2713              NaN              0     0.01               78.281203   \n",
       "\n",
       "      Hepatitis B  Measles    BMI   under-five deaths   Polio  \\\n",
       "624          98.0         0   82.8                   0   98.0   \n",
       "769          96.0         0   58.4                   0   96.0   \n",
       "1650          8.0         0   81.6                   0   79.0   \n",
       "1715         99.0         0    NaN                   0   99.0   \n",
       "1812         87.0         0   87.3                   0   87.0   \n",
       "1909         99.0         0   77.3                   0   99.0   \n",
       "1958         99.0         0   83.3                   0   99.0   \n",
       "2167         97.0         0    5.2                   0   96.0   \n",
       "2216         69.0         0    NaN                   0   69.0   \n",
       "2713          9.0         0   79.3                   0    9.0   \n",
       "\n",
       "      Total expenditure  Diphtheria    HIV/AIDS          GDP  Population  \\\n",
       "624                3.58         98.0        0.1          NaN         NaN   \n",
       "769                5.58         96.0        0.1   722.756650         NaN   \n",
       "1650              17.24         79.0        0.1  3617.752354         NaN   \n",
       "1715               4.30         99.0        0.1          NaN         NaN   \n",
       "1812               4.65         87.0        0.1   136.183210         NaN   \n",
       "1909               7.20         99.0        0.1          NaN         NaN   \n",
       "1958               9.27         99.0        0.1  1932.122370       292.0   \n",
       "2167               6.14         96.0        0.1          NaN         NaN   \n",
       "2216               6.50         69.0        0.1          NaN         NaN   \n",
       "2713              16.61          9.0        0.1  3542.135890      1819.0   \n",
       "\n",
       "       thinness  1-19 years   thinness 5-9 years  \\\n",
       "624                     0.1                  0.1   \n",
       "769                     2.7                  2.6   \n",
       "1650                    0.1                  0.1   \n",
       "1715                    NaN                  NaN   \n",
       "1812                    0.1                  0.1   \n",
       "1909                    0.1                  0.1   \n",
       "1958                    0.1                  0.1   \n",
       "2167                    3.7                  3.6   \n",
       "2216                    NaN                  NaN   \n",
       "2713                    0.2                  0.1   \n",
       "\n",
       "      Income composition of resources  Schooling  \n",
       "624                               NaN        NaN  \n",
       "769                             0.721       12.7  \n",
       "1650                              NaN        0.0  \n",
       "1715                              NaN        NaN  \n",
       "1812                              NaN        9.6  \n",
       "1909                              NaN        NaN  \n",
       "1958                            0.779       14.2  \n",
       "2167                            0.749       13.4  \n",
       "2216                              NaN       15.1  \n",
       "2713                              NaN        0.0  "
      ]
     },
     "execution_count": 75,
     "metadata": {},
     "output_type": "execute_result"
    }
   ],
   "source": [
    "df[df['Adult Mortality'].isnull()].head(10)"
   ]
  },
  {
   "cell_type": "markdown",
   "metadata": {},
   "source": [
    "#### Parece que es en el año 2013, como los años están entre 2000 y 2015, aplicaremos la media por pais en esos casos fijándonos solo en dos años atras (2011 y 2012) y dos años adelante (2014 y 2015)"
   ]
  },
  {
   "cell_type": "markdown",
   "metadata": {},
   "source": [
    "### 2.5 Columna infant deaths"
   ]
  },
  {
   "cell_type": "code",
   "execution_count": 82,
   "metadata": {},
   "outputs": [
    {
     "name": "stdout",
     "output_type": "stream",
     "text": [
      "Columna: infant deaths  -  Tipo de datos: int64\n",
      "Número de valores nulos: 0  -  Número de valores distintos: 209\n",
      "Valores más frecuentes:\n",
      "0 : 848 veces\n",
      "1 : 342 veces\n",
      "2 : 203 veces\n",
      "3 : 175 veces\n",
      "4 : 96 veces\n",
      "8 : 57 veces\n",
      "7 : 53 veces\n",
      "9 : 48 veces\n",
      "10 : 48 veces\n",
      "6 : 46 veces\n"
     ]
    }
   ],
   "source": [
    "describe_columna(df, \"infant deaths\")"
   ]
  },
  {
   "cell_type": "markdown",
   "metadata": {},
   "source": [
    "#### No hay nulos, no haremos nada con esta columna"
   ]
  },
  {
   "cell_type": "markdown",
   "metadata": {},
   "source": [
    "## 3. Preprocesado de los datos"
   ]
  },
  {
   "cell_type": "markdown",
   "metadata": {},
   "source": [
    "#### Copiamos el dataset para hacer cambios y no modificar el original"
   ]
  },
  {
   "cell_type": "code",
   "execution_count": 76,
   "metadata": {},
   "outputs": [],
   "source": [
    "df_encoded = df.copy()"
   ]
  },
  {
   "cell_type": "markdown",
   "metadata": {},
   "source": [
    "### 3.1 Columna Life expectancy (Borraremos los nulos)"
   ]
  },
  {
   "cell_type": "code",
   "execution_count": 77,
   "metadata": {},
   "outputs": [
    {
     "name": "stdout",
     "output_type": "stream",
     "text": [
      "Nulos:  0\n"
     ]
    }
   ],
   "source": [
    "df_encoded = df_encoded.dropna(subset=[\"Life expectancy \"])\n",
    "print(\"Nulos: \",df_encoded[\"Life expectancy \"].isnull().sum())"
   ]
  },
  {
   "cell_type": "markdown",
   "metadata": {},
   "source": [
    "### 3.2 Columna Adult Mortality (aplicaremos la media con dos años atras y adelante de 2013)"
   ]
  },
  {
   "cell_type": "code",
   "execution_count": 81,
   "metadata": {},
   "outputs": [
    {
     "name": "stdout",
     "output_type": "stream",
     "text": [
      "Nulos:  Empty DataFrame\n",
      "Columns: [Country, Year, Life expectancy , Adult Mortality, infant deaths, Alcohol, percentage expenditure, Hepatitis B, Measles ,  BMI , under-five deaths , Polio, Total expenditure, Diphtheria ,  HIV/AIDS, GDP, Population,  thinness  1-19 years,  thinness 5-9 years, Income composition of resources, Schooling, Status_Developing]\n",
      "Index: []\n"
     ]
    }
   ],
   "source": [
    "# Paso 1: Identificar los países con Adult Mortality nulo en 2013\n",
    "paises_nulos_2013 = df_encoded[(df_encoded['Year'] == 2013) & (df_encoded['Adult Mortality'].isna())]['Country'].unique()\n",
    "\n",
    "# Paso 2 y 3: Para cada país, calcular la media de los años 2011, 2012, 2014, 2015 y rellenar en 2013\n",
    "for pais in paises_nulos_2013:\n",
    "    # Filtrar los datos del país en los años 2011, 2012, 2014, 2015\n",
    "    datos_pais = df_encoded[(df_encoded['Country'] == pais) & (df_encoded['Year'].isin([2011, 2012, 2014, 2015]))]\n",
    "    \n",
    "    # Calcular la media de Adult Mortality en esos años\n",
    "    media_pais = datos_pais['Adult Mortality'].mean()\n",
    "    \n",
    "    # Rellenar los valores nulos en 2013 con la media calculada\n",
    "    df_encoded.loc[(df_encoded['Country'] == pais) & (df_encoded['Year'] == 2013) & (df_encoded['Adult Mortality'].isna()), 'Adult Mortality'] = media_pais\n",
    "\n",
    "# Verificamos si aún quedan valores nulos en 2013\n",
    "print(\"Nulos: \",df_encoded[(df_encoded['Year'] == 2013) & (df_encoded['Adult Mortality'].isna())])"
   ]
  },
  {
   "cell_type": "markdown",
   "metadata": {},
   "source": [
    "### 3.x  Columna Status (Aplicamos One-Hot Encoding)"
   ]
  },
  {
   "cell_type": "code",
   "execution_count": 79,
   "metadata": {},
   "outputs": [
    {
     "data": {
      "text/plain": [
       "0    1.0\n",
       "1    1.0\n",
       "2    1.0\n",
       "3    1.0\n",
       "4    1.0\n",
       "Name: Status_Developing, dtype: float64"
      ]
     },
     "execution_count": 79,
     "metadata": {},
     "output_type": "execute_result"
    }
   ],
   "source": [
    "# Crear el codificador\n",
    "encoder = OneHotEncoder(drop='first', sparse_output=False)\n",
    "\n",
    "# Aplicar One-Hot Encoding\n",
    "encoded_array = encoder.fit_transform(df_encoded[['Status']])\n",
    "\n",
    "# Convertir a DataFrame\n",
    "encoded_df = pd.DataFrame(encoded_array, columns=encoder.get_feature_names_out(['Status']))\n",
    "\n",
    "# Concatenar con el DataFrame original\n",
    "df_encoded = pd.concat([df_encoded.drop(columns=['Status']), encoded_df], axis=1)\n",
    "\n",
    "# Mostrar el resultado\n",
    "df_encoded[\"Status_Developing\"].head()"
   ]
  },
  {
   "cell_type": "markdown",
   "metadata": {},
   "source": [
    "#### Vamos a crear solo 1 columna con el one-hot encoding, porque con solo 1 columna tendremos la informacion de Developed o Developing de cada registro"
   ]
  },
  {
   "cell_type": "markdown",
   "metadata": {},
   "source": [
    "### 3.x Columna Country (Aplicamos Embeding)"
   ]
  },
  {
   "cell_type": "markdown",
   "metadata": {},
   "source": []
  }
 ],
 "metadata": {
  "kernelspec": {
   "display_name": "base",
   "language": "python",
   "name": "python3"
  },
  "language_info": {
   "codemirror_mode": {
    "name": "ipython",
    "version": 3
   },
   "file_extension": ".py",
   "mimetype": "text/x-python",
   "name": "python",
   "nbconvert_exporter": "python",
   "pygments_lexer": "ipython3",
   "version": "3.12.4"
  }
 },
 "nbformat": 4,
 "nbformat_minor": 2
}
